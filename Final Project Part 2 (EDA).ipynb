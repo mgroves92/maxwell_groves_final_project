{
 "cells": [
  {
   "cell_type": "markdown",
   "metadata": {},
   "source": [
    "# Final Project Part 2"
   ]
  },
  {
   "cell_type": "markdown",
   "metadata": {},
   "source": [
    "## Import Libraries"
   ]
  },
  {
   "cell_type": "code",
   "execution_count": 1,
   "metadata": {},
   "outputs": [],
   "source": [
    "from pathlib import Path\n",
    "import matplotlib.pyplot as plt\n",
    "import pandas as pd\n",
    "import numpy as np\n",
    "import seaborn as sns\n",
    "\n",
    "plt.style.use('fivethirtyeight')"
   ]
  },
  {
   "cell_type": "markdown",
   "metadata": {},
   "source": [
    "## Set Path And Load Data"
   ]
  },
  {
   "cell_type": "code",
   "execution_count": 2,
   "metadata": {},
   "outputs": [
    {
     "name": "stderr",
     "output_type": "stream",
     "text": [
      "/anaconda3/lib/python3.6/site-packages/IPython/core/interactiveshell.py:2785: DtypeWarning: Columns (19,55) have mixed types. Specify dtype option on import or set low_memory=False.\n",
      "  interactivity=interactivity, compiler=compiler, result=result)\n"
     ]
    },
    {
     "data": {
      "text/html": [
       "<div>\n",
       "<style scoped>\n",
       "    .dataframe tbody tr th:only-of-type {\n",
       "        vertical-align: middle;\n",
       "    }\n",
       "\n",
       "    .dataframe tbody tr th {\n",
       "        vertical-align: top;\n",
       "    }\n",
       "\n",
       "    .dataframe thead th {\n",
       "        text-align: right;\n",
       "    }\n",
       "</style>\n",
       "<table border=\"1\" class=\"dataframe\">\n",
       "  <thead>\n",
       "    <tr style=\"text-align: right;\">\n",
       "      <th></th>\n",
       "      <th>id</th>\n",
       "      <th>member_id</th>\n",
       "      <th>loan_amnt</th>\n",
       "      <th>funded_amnt</th>\n",
       "      <th>funded_amnt_inv</th>\n",
       "      <th>term</th>\n",
       "      <th>int_rate</th>\n",
       "      <th>installment</th>\n",
       "      <th>grade</th>\n",
       "      <th>sub_grade</th>\n",
       "      <th>...</th>\n",
       "      <th>total_bal_il</th>\n",
       "      <th>il_util</th>\n",
       "      <th>open_rv_12m</th>\n",
       "      <th>open_rv_24m</th>\n",
       "      <th>max_bal_bc</th>\n",
       "      <th>all_util</th>\n",
       "      <th>total_rev_hi_lim</th>\n",
       "      <th>inq_fi</th>\n",
       "      <th>total_cu_tl</th>\n",
       "      <th>inq_last_12m</th>\n",
       "    </tr>\n",
       "  </thead>\n",
       "  <tbody>\n",
       "    <tr>\n",
       "      <th>0</th>\n",
       "      <td>1077501</td>\n",
       "      <td>1296599</td>\n",
       "      <td>5000.0</td>\n",
       "      <td>5000.0</td>\n",
       "      <td>4975.0</td>\n",
       "      <td>36 months</td>\n",
       "      <td>10.65</td>\n",
       "      <td>162.87</td>\n",
       "      <td>B</td>\n",
       "      <td>B2</td>\n",
       "      <td>...</td>\n",
       "      <td>NaN</td>\n",
       "      <td>NaN</td>\n",
       "      <td>NaN</td>\n",
       "      <td>NaN</td>\n",
       "      <td>NaN</td>\n",
       "      <td>NaN</td>\n",
       "      <td>NaN</td>\n",
       "      <td>NaN</td>\n",
       "      <td>NaN</td>\n",
       "      <td>NaN</td>\n",
       "    </tr>\n",
       "    <tr>\n",
       "      <th>1</th>\n",
       "      <td>1077430</td>\n",
       "      <td>1314167</td>\n",
       "      <td>2500.0</td>\n",
       "      <td>2500.0</td>\n",
       "      <td>2500.0</td>\n",
       "      <td>60 months</td>\n",
       "      <td>15.27</td>\n",
       "      <td>59.83</td>\n",
       "      <td>C</td>\n",
       "      <td>C4</td>\n",
       "      <td>...</td>\n",
       "      <td>NaN</td>\n",
       "      <td>NaN</td>\n",
       "      <td>NaN</td>\n",
       "      <td>NaN</td>\n",
       "      <td>NaN</td>\n",
       "      <td>NaN</td>\n",
       "      <td>NaN</td>\n",
       "      <td>NaN</td>\n",
       "      <td>NaN</td>\n",
       "      <td>NaN</td>\n",
       "    </tr>\n",
       "    <tr>\n",
       "      <th>2</th>\n",
       "      <td>1077175</td>\n",
       "      <td>1313524</td>\n",
       "      <td>2400.0</td>\n",
       "      <td>2400.0</td>\n",
       "      <td>2400.0</td>\n",
       "      <td>36 months</td>\n",
       "      <td>15.96</td>\n",
       "      <td>84.33</td>\n",
       "      <td>C</td>\n",
       "      <td>C5</td>\n",
       "      <td>...</td>\n",
       "      <td>NaN</td>\n",
       "      <td>NaN</td>\n",
       "      <td>NaN</td>\n",
       "      <td>NaN</td>\n",
       "      <td>NaN</td>\n",
       "      <td>NaN</td>\n",
       "      <td>NaN</td>\n",
       "      <td>NaN</td>\n",
       "      <td>NaN</td>\n",
       "      <td>NaN</td>\n",
       "    </tr>\n",
       "    <tr>\n",
       "      <th>3</th>\n",
       "      <td>1076863</td>\n",
       "      <td>1277178</td>\n",
       "      <td>10000.0</td>\n",
       "      <td>10000.0</td>\n",
       "      <td>10000.0</td>\n",
       "      <td>36 months</td>\n",
       "      <td>13.49</td>\n",
       "      <td>339.31</td>\n",
       "      <td>C</td>\n",
       "      <td>C1</td>\n",
       "      <td>...</td>\n",
       "      <td>NaN</td>\n",
       "      <td>NaN</td>\n",
       "      <td>NaN</td>\n",
       "      <td>NaN</td>\n",
       "      <td>NaN</td>\n",
       "      <td>NaN</td>\n",
       "      <td>NaN</td>\n",
       "      <td>NaN</td>\n",
       "      <td>NaN</td>\n",
       "      <td>NaN</td>\n",
       "    </tr>\n",
       "    <tr>\n",
       "      <th>4</th>\n",
       "      <td>1075358</td>\n",
       "      <td>1311748</td>\n",
       "      <td>3000.0</td>\n",
       "      <td>3000.0</td>\n",
       "      <td>3000.0</td>\n",
       "      <td>60 months</td>\n",
       "      <td>12.69</td>\n",
       "      <td>67.79</td>\n",
       "      <td>B</td>\n",
       "      <td>B5</td>\n",
       "      <td>...</td>\n",
       "      <td>NaN</td>\n",
       "      <td>NaN</td>\n",
       "      <td>NaN</td>\n",
       "      <td>NaN</td>\n",
       "      <td>NaN</td>\n",
       "      <td>NaN</td>\n",
       "      <td>NaN</td>\n",
       "      <td>NaN</td>\n",
       "      <td>NaN</td>\n",
       "      <td>NaN</td>\n",
       "    </tr>\n",
       "  </tbody>\n",
       "</table>\n",
       "<p>5 rows × 74 columns</p>\n",
       "</div>"
      ],
      "text/plain": [
       "        id  member_id  loan_amnt  funded_amnt  funded_amnt_inv        term  \\\n",
       "0  1077501    1296599     5000.0       5000.0           4975.0   36 months   \n",
       "1  1077430    1314167     2500.0       2500.0           2500.0   60 months   \n",
       "2  1077175    1313524     2400.0       2400.0           2400.0   36 months   \n",
       "3  1076863    1277178    10000.0      10000.0          10000.0   36 months   \n",
       "4  1075358    1311748     3000.0       3000.0           3000.0   60 months   \n",
       "\n",
       "   int_rate  installment grade sub_grade     ...      total_bal_il il_util  \\\n",
       "0     10.65       162.87     B        B2     ...               NaN     NaN   \n",
       "1     15.27        59.83     C        C4     ...               NaN     NaN   \n",
       "2     15.96        84.33     C        C5     ...               NaN     NaN   \n",
       "3     13.49       339.31     C        C1     ...               NaN     NaN   \n",
       "4     12.69        67.79     B        B5     ...               NaN     NaN   \n",
       "\n",
       "  open_rv_12m  open_rv_24m max_bal_bc all_util total_rev_hi_lim inq_fi  \\\n",
       "0         NaN          NaN        NaN      NaN              NaN    NaN   \n",
       "1         NaN          NaN        NaN      NaN              NaN    NaN   \n",
       "2         NaN          NaN        NaN      NaN              NaN    NaN   \n",
       "3         NaN          NaN        NaN      NaN              NaN    NaN   \n",
       "4         NaN          NaN        NaN      NaN              NaN    NaN   \n",
       "\n",
       "  total_cu_tl inq_last_12m  \n",
       "0         NaN          NaN  \n",
       "1         NaN          NaN  \n",
       "2         NaN          NaN  \n",
       "3         NaN          NaN  \n",
       "4         NaN          NaN  \n",
       "\n",
       "[5 rows x 74 columns]"
      ]
     },
     "execution_count": 2,
     "metadata": {},
     "output_type": "execute_result"
    }
   ],
   "source": [
    "loan_path = Path('loan.csv')\n",
    "loans = pd.read_csv(loan_path)\n",
    "loans.head()"
   ]
  },
  {
   "cell_type": "code",
   "execution_count": 4,
   "metadata": {},
   "outputs": [
    {
     "data": {
      "text/plain": [
       "(887379, 74)"
      ]
     },
     "execution_count": 4,
     "metadata": {},
     "output_type": "execute_result"
    }
   ],
   "source": [
    "loans.shape"
   ]
  },
  {
   "cell_type": "code",
   "execution_count": 6,
   "metadata": {},
   "outputs": [
    {
     "name": "stdout",
     "output_type": "stream",
     "text": [
      "<class 'pandas.core.frame.DataFrame'>\n",
      "RangeIndex: 887379 entries, 0 to 887378\n",
      "Data columns (total 74 columns):\n",
      "id                             887379 non-null int64\n",
      "member_id                      887379 non-null int64\n",
      "loan_amnt                      887379 non-null float64\n",
      "funded_amnt                    887379 non-null float64\n",
      "funded_amnt_inv                887379 non-null float64\n",
      "term                           887379 non-null object\n",
      "int_rate                       887379 non-null float64\n",
      "installment                    887379 non-null float64\n",
      "grade                          887379 non-null object\n",
      "sub_grade                      887379 non-null object\n",
      "emp_title                      835917 non-null object\n",
      "emp_length                     842554 non-null object\n",
      "home_ownership                 887379 non-null object\n",
      "annual_inc                     887375 non-null float64\n",
      "verification_status            887379 non-null object\n",
      "issue_d                        887379 non-null object\n",
      "loan_status                    887379 non-null object\n",
      "pymnt_plan                     887379 non-null object\n",
      "url                            887379 non-null object\n",
      "desc                           126028 non-null object\n",
      "purpose                        887379 non-null object\n",
      "title                          887227 non-null object\n",
      "zip_code                       887379 non-null object\n",
      "addr_state                     887379 non-null object\n",
      "dti                            887379 non-null float64\n",
      "delinq_2yrs                    887350 non-null float64\n",
      "earliest_cr_line               887350 non-null object\n",
      "inq_last_6mths                 887350 non-null float64\n",
      "mths_since_last_delinq         433067 non-null float64\n",
      "mths_since_last_record         137053 non-null float64\n",
      "open_acc                       887350 non-null float64\n",
      "pub_rec                        887350 non-null float64\n",
      "revol_bal                      887379 non-null float64\n",
      "revol_util                     886877 non-null float64\n",
      "total_acc                      887350 non-null float64\n",
      "initial_list_status            887379 non-null object\n",
      "out_prncp                      887379 non-null float64\n",
      "out_prncp_inv                  887379 non-null float64\n",
      "total_pymnt                    887379 non-null float64\n",
      "total_pymnt_inv                887379 non-null float64\n",
      "total_rec_prncp                887379 non-null float64\n",
      "total_rec_int                  887379 non-null float64\n",
      "total_rec_late_fee             887379 non-null float64\n",
      "recoveries                     887379 non-null float64\n",
      "collection_recovery_fee        887379 non-null float64\n",
      "last_pymnt_d                   869720 non-null object\n",
      "last_pymnt_amnt                887379 non-null float64\n",
      "next_pymnt_d                   634408 non-null object\n",
      "last_credit_pull_d             887326 non-null object\n",
      "collections_12_mths_ex_med     887234 non-null float64\n",
      "mths_since_last_major_derog    221703 non-null float64\n",
      "policy_code                    887379 non-null float64\n",
      "application_type               887379 non-null object\n",
      "annual_inc_joint               511 non-null float64\n",
      "dti_joint                      509 non-null float64\n",
      "verification_status_joint      511 non-null object\n",
      "acc_now_delinq                 887350 non-null float64\n",
      "tot_coll_amt                   817103 non-null float64\n",
      "tot_cur_bal                    817103 non-null float64\n",
      "open_acc_6m                    21372 non-null float64\n",
      "open_il_6m                     21372 non-null float64\n",
      "open_il_12m                    21372 non-null float64\n",
      "open_il_24m                    21372 non-null float64\n",
      "mths_since_rcnt_il             20810 non-null float64\n",
      "total_bal_il                   21372 non-null float64\n",
      "il_util                        18617 non-null float64\n",
      "open_rv_12m                    21372 non-null float64\n",
      "open_rv_24m                    21372 non-null float64\n",
      "max_bal_bc                     21372 non-null float64\n",
      "all_util                       21372 non-null float64\n",
      "total_rev_hi_lim               817103 non-null float64\n",
      "inq_fi                         21372 non-null float64\n",
      "total_cu_tl                    21372 non-null float64\n",
      "inq_last_12m                   21372 non-null float64\n",
      "dtypes: float64(49), int64(2), object(23)\n",
      "memory usage: 501.0+ MB\n"
     ]
    }
   ],
   "source": [
    "loans.info()"
   ]
  },
  {
   "cell_type": "code",
   "execution_count": 8,
   "metadata": {},
   "outputs": [
    {
     "data": {
      "text/plain": [
       " 36 months    621125\n",
       " 60 months    266254\n",
       "Name: term, dtype: int64"
      ]
     },
     "execution_count": 8,
     "metadata": {},
     "output_type": "execute_result"
    }
   ],
   "source": [
    "loans.loc[:,'term'].value_counts()"
   ]
  },
  {
   "cell_type": "code",
   "execution_count": 18,
   "metadata": {},
   "outputs": [
    {
     "data": {
      "text/html": [
       "<div>\n",
       "<style scoped>\n",
       "    .dataframe tbody tr th:only-of-type {\n",
       "        vertical-align: middle;\n",
       "    }\n",
       "\n",
       "    .dataframe tbody tr th {\n",
       "        vertical-align: top;\n",
       "    }\n",
       "\n",
       "    .dataframe thead th {\n",
       "        text-align: right;\n",
       "    }\n",
       "</style>\n",
       "<table border=\"1\" class=\"dataframe\">\n",
       "  <thead>\n",
       "    <tr style=\"text-align: right;\">\n",
       "      <th></th>\n",
       "      <th>term</th>\n",
       "      <th>grade</th>\n",
       "      <th>sub_grade</th>\n",
       "      <th>emp_title</th>\n",
       "      <th>emp_length</th>\n",
       "      <th>home_ownership</th>\n",
       "      <th>verification_status</th>\n",
       "      <th>issue_d</th>\n",
       "      <th>loan_status</th>\n",
       "      <th>pymnt_plan</th>\n",
       "      <th>...</th>\n",
       "      <th>title</th>\n",
       "      <th>zip_code</th>\n",
       "      <th>addr_state</th>\n",
       "      <th>earliest_cr_line</th>\n",
       "      <th>initial_list_status</th>\n",
       "      <th>last_pymnt_d</th>\n",
       "      <th>next_pymnt_d</th>\n",
       "      <th>last_credit_pull_d</th>\n",
       "      <th>application_type</th>\n",
       "      <th>verification_status_joint</th>\n",
       "    </tr>\n",
       "  </thead>\n",
       "  <tbody>\n",
       "    <tr>\n",
       "      <th>count</th>\n",
       "      <td>887379</td>\n",
       "      <td>887379</td>\n",
       "      <td>887379</td>\n",
       "      <td>835917</td>\n",
       "      <td>842554</td>\n",
       "      <td>887379</td>\n",
       "      <td>887379</td>\n",
       "      <td>887379</td>\n",
       "      <td>887379</td>\n",
       "      <td>887379</td>\n",
       "      <td>...</td>\n",
       "      <td>887227</td>\n",
       "      <td>887379</td>\n",
       "      <td>887379</td>\n",
       "      <td>887350</td>\n",
       "      <td>887379</td>\n",
       "      <td>869720</td>\n",
       "      <td>634408</td>\n",
       "      <td>887326</td>\n",
       "      <td>887379</td>\n",
       "      <td>511</td>\n",
       "    </tr>\n",
       "    <tr>\n",
       "      <th>unique</th>\n",
       "      <td>2</td>\n",
       "      <td>7</td>\n",
       "      <td>35</td>\n",
       "      <td>299271</td>\n",
       "      <td>11</td>\n",
       "      <td>6</td>\n",
       "      <td>3</td>\n",
       "      <td>103</td>\n",
       "      <td>10</td>\n",
       "      <td>2</td>\n",
       "      <td>...</td>\n",
       "      <td>63144</td>\n",
       "      <td>935</td>\n",
       "      <td>51</td>\n",
       "      <td>697</td>\n",
       "      <td>2</td>\n",
       "      <td>98</td>\n",
       "      <td>100</td>\n",
       "      <td>103</td>\n",
       "      <td>2</td>\n",
       "      <td>3</td>\n",
       "    </tr>\n",
       "    <tr>\n",
       "      <th>top</th>\n",
       "      <td>36 months</td>\n",
       "      <td>B</td>\n",
       "      <td>B3</td>\n",
       "      <td>Teacher</td>\n",
       "      <td>10+ years</td>\n",
       "      <td>MORTGAGE</td>\n",
       "      <td>Source Verified</td>\n",
       "      <td>Oct-2015</td>\n",
       "      <td>Current</td>\n",
       "      <td>n</td>\n",
       "      <td>...</td>\n",
       "      <td>Debt consolidation</td>\n",
       "      <td>945xx</td>\n",
       "      <td>CA</td>\n",
       "      <td>Aug-2001</td>\n",
       "      <td>f</td>\n",
       "      <td>Jan-2016</td>\n",
       "      <td>Feb-2016</td>\n",
       "      <td>Jan-2016</td>\n",
       "      <td>INDIVIDUAL</td>\n",
       "      <td>Not Verified</td>\n",
       "    </tr>\n",
       "    <tr>\n",
       "      <th>freq</th>\n",
       "      <td>621125</td>\n",
       "      <td>254535</td>\n",
       "      <td>56323</td>\n",
       "      <td>13469</td>\n",
       "      <td>291569</td>\n",
       "      <td>443557</td>\n",
       "      <td>329558</td>\n",
       "      <td>48631</td>\n",
       "      <td>601779</td>\n",
       "      <td>887369</td>\n",
       "      <td>...</td>\n",
       "      <td>414001</td>\n",
       "      <td>9770</td>\n",
       "      <td>129517</td>\n",
       "      <td>6659</td>\n",
       "      <td>456848</td>\n",
       "      <td>470150</td>\n",
       "      <td>553406</td>\n",
       "      <td>730574</td>\n",
       "      <td>886868</td>\n",
       "      <td>283</td>\n",
       "    </tr>\n",
       "  </tbody>\n",
       "</table>\n",
       "<p>4 rows × 23 columns</p>\n",
       "</div>"
      ],
      "text/plain": [
       "              term   grade sub_grade emp_title emp_length home_ownership  \\\n",
       "count       887379  887379    887379    835917     842554         887379   \n",
       "unique           2       7        35    299271         11              6   \n",
       "top      36 months       B        B3   Teacher  10+ years       MORTGAGE   \n",
       "freq        621125  254535     56323     13469     291569         443557   \n",
       "\n",
       "       verification_status   issue_d loan_status pymnt_plan  \\\n",
       "count               887379    887379      887379     887379   \n",
       "unique                   3       103          10          2   \n",
       "top        Source Verified  Oct-2015     Current          n   \n",
       "freq                329558     48631      601779     887369   \n",
       "\n",
       "                  ...                          title zip_code addr_state  \\\n",
       "count             ...                         887227   887379     887379   \n",
       "unique            ...                          63144      935         51   \n",
       "top               ...             Debt consolidation    945xx         CA   \n",
       "freq              ...                         414001     9770     129517   \n",
       "\n",
       "       earliest_cr_line initial_list_status last_pymnt_d next_pymnt_d  \\\n",
       "count            887350              887379       869720       634408   \n",
       "unique              697                   2           98          100   \n",
       "top            Aug-2001                   f     Jan-2016     Feb-2016   \n",
       "freq               6659              456848       470150       553406   \n",
       "\n",
       "       last_credit_pull_d application_type verification_status_joint  \n",
       "count              887326           887379                       511  \n",
       "unique                103                2                         3  \n",
       "top              Jan-2016       INDIVIDUAL              Not Verified  \n",
       "freq               730574           886868                       283  \n",
       "\n",
       "[4 rows x 23 columns]"
      ]
     },
     "execution_count": 18,
     "metadata": {},
     "output_type": "execute_result"
    }
   ],
   "source": [
    "loans.describe(include=['object'])"
   ]
  },
  {
   "cell_type": "code",
   "execution_count": 20,
   "metadata": {},
   "outputs": [
    {
     "data": {
      "text/html": [
       "<div>\n",
       "<style scoped>\n",
       "    .dataframe tbody tr th:only-of-type {\n",
       "        vertical-align: middle;\n",
       "    }\n",
       "\n",
       "    .dataframe tbody tr th {\n",
       "        vertical-align: top;\n",
       "    }\n",
       "\n",
       "    .dataframe thead th {\n",
       "        text-align: right;\n",
       "    }\n",
       "</style>\n",
       "<table border=\"1\" class=\"dataframe\">\n",
       "  <thead>\n",
       "    <tr style=\"text-align: right;\">\n",
       "      <th></th>\n",
       "      <th>id</th>\n",
       "      <th>member_id</th>\n",
       "      <th>loan_amnt</th>\n",
       "      <th>funded_amnt</th>\n",
       "      <th>funded_amnt_inv</th>\n",
       "      <th>int_rate</th>\n",
       "      <th>installment</th>\n",
       "      <th>annual_inc</th>\n",
       "      <th>dti</th>\n",
       "      <th>delinq_2yrs</th>\n",
       "      <th>...</th>\n",
       "      <th>il_util</th>\n",
       "      <th>open_rv_12m</th>\n",
       "      <th>open_rv_24m</th>\n",
       "      <th>max_bal_bc</th>\n",
       "      <th>all_util</th>\n",
       "      <th>total_rev_hi_lim</th>\n",
       "      <th>inq_fi</th>\n",
       "      <th>total_cu_tl</th>\n",
       "      <th>inq_last_12m</th>\n",
       "      <th>term_num</th>\n",
       "    </tr>\n",
       "  </thead>\n",
       "  <tbody>\n",
       "    <tr>\n",
       "      <th>count</th>\n",
       "      <td>8.873790e+05</td>\n",
       "      <td>8.873790e+05</td>\n",
       "      <td>887379.000000</td>\n",
       "      <td>887379.000000</td>\n",
       "      <td>887379.000000</td>\n",
       "      <td>887379.000000</td>\n",
       "      <td>887379.000000</td>\n",
       "      <td>8.873750e+05</td>\n",
       "      <td>887379.000000</td>\n",
       "      <td>887350.000000</td>\n",
       "      <td>...</td>\n",
       "      <td>18617.000000</td>\n",
       "      <td>21372.000000</td>\n",
       "      <td>21372.000000</td>\n",
       "      <td>21372.000000</td>\n",
       "      <td>21372.000000</td>\n",
       "      <td>8.171030e+05</td>\n",
       "      <td>21372.000000</td>\n",
       "      <td>21372.000000</td>\n",
       "      <td>21372.000000</td>\n",
       "      <td>887379.0</td>\n",
       "    </tr>\n",
       "    <tr>\n",
       "      <th>mean</th>\n",
       "      <td>3.246513e+07</td>\n",
       "      <td>3.500182e+07</td>\n",
       "      <td>14755.264605</td>\n",
       "      <td>14741.877625</td>\n",
       "      <td>14702.464383</td>\n",
       "      <td>13.246740</td>\n",
       "      <td>436.717127</td>\n",
       "      <td>7.502759e+04</td>\n",
       "      <td>18.157039</td>\n",
       "      <td>0.314442</td>\n",
       "      <td>...</td>\n",
       "      <td>71.535317</td>\n",
       "      <td>1.389060</td>\n",
       "      <td>2.975482</td>\n",
       "      <td>5887.979740</td>\n",
       "      <td>60.831939</td>\n",
       "      <td>3.206862e+04</td>\n",
       "      <td>0.943945</td>\n",
       "      <td>1.537058</td>\n",
       "      <td>1.977307</td>\n",
       "      <td>36.0</td>\n",
       "    </tr>\n",
       "    <tr>\n",
       "      <th>std</th>\n",
       "      <td>2.282734e+07</td>\n",
       "      <td>2.411335e+07</td>\n",
       "      <td>8435.455601</td>\n",
       "      <td>8429.897657</td>\n",
       "      <td>8442.106732</td>\n",
       "      <td>4.381867</td>\n",
       "      <td>244.186593</td>\n",
       "      <td>6.469830e+04</td>\n",
       "      <td>17.190626</td>\n",
       "      <td>0.862244</td>\n",
       "      <td>...</td>\n",
       "      <td>23.022862</td>\n",
       "      <td>1.520129</td>\n",
       "      <td>2.631886</td>\n",
       "      <td>5284.701239</td>\n",
       "      <td>20.013254</td>\n",
       "      <td>3.749826e+04</td>\n",
       "      <td>1.446872</td>\n",
       "      <td>2.723339</td>\n",
       "      <td>2.874067</td>\n",
       "      <td>0.0</td>\n",
       "    </tr>\n",
       "    <tr>\n",
       "      <th>min</th>\n",
       "      <td>5.473400e+04</td>\n",
       "      <td>7.047300e+04</td>\n",
       "      <td>500.000000</td>\n",
       "      <td>500.000000</td>\n",
       "      <td>0.000000</td>\n",
       "      <td>5.320000</td>\n",
       "      <td>15.670000</td>\n",
       "      <td>0.000000e+00</td>\n",
       "      <td>0.000000</td>\n",
       "      <td>0.000000</td>\n",
       "      <td>...</td>\n",
       "      <td>0.000000</td>\n",
       "      <td>0.000000</td>\n",
       "      <td>0.000000</td>\n",
       "      <td>0.000000</td>\n",
       "      <td>0.000000</td>\n",
       "      <td>0.000000e+00</td>\n",
       "      <td>0.000000</td>\n",
       "      <td>0.000000</td>\n",
       "      <td>-4.000000</td>\n",
       "      <td>36.0</td>\n",
       "    </tr>\n",
       "    <tr>\n",
       "      <th>25%</th>\n",
       "      <td>9.206643e+06</td>\n",
       "      <td>1.087713e+07</td>\n",
       "      <td>8000.000000</td>\n",
       "      <td>8000.000000</td>\n",
       "      <td>8000.000000</td>\n",
       "      <td>9.990000</td>\n",
       "      <td>260.705000</td>\n",
       "      <td>4.500000e+04</td>\n",
       "      <td>11.910000</td>\n",
       "      <td>0.000000</td>\n",
       "      <td>...</td>\n",
       "      <td>58.600000</td>\n",
       "      <td>0.000000</td>\n",
       "      <td>1.000000</td>\n",
       "      <td>2411.000000</td>\n",
       "      <td>47.700000</td>\n",
       "      <td>1.390000e+04</td>\n",
       "      <td>0.000000</td>\n",
       "      <td>0.000000</td>\n",
       "      <td>0.000000</td>\n",
       "      <td>36.0</td>\n",
       "    </tr>\n",
       "    <tr>\n",
       "      <th>50%</th>\n",
       "      <td>3.443327e+07</td>\n",
       "      <td>3.709528e+07</td>\n",
       "      <td>13000.000000</td>\n",
       "      <td>13000.000000</td>\n",
       "      <td>13000.000000</td>\n",
       "      <td>12.990000</td>\n",
       "      <td>382.550000</td>\n",
       "      <td>6.500000e+04</td>\n",
       "      <td>17.650000</td>\n",
       "      <td>0.000000</td>\n",
       "      <td>...</td>\n",
       "      <td>74.900000</td>\n",
       "      <td>1.000000</td>\n",
       "      <td>2.000000</td>\n",
       "      <td>4483.000000</td>\n",
       "      <td>61.900000</td>\n",
       "      <td>2.370000e+04</td>\n",
       "      <td>0.000000</td>\n",
       "      <td>0.000000</td>\n",
       "      <td>2.000000</td>\n",
       "      <td>36.0</td>\n",
       "    </tr>\n",
       "    <tr>\n",
       "      <th>75%</th>\n",
       "      <td>5.490814e+07</td>\n",
       "      <td>5.847135e+07</td>\n",
       "      <td>20000.000000</td>\n",
       "      <td>20000.000000</td>\n",
       "      <td>20000.000000</td>\n",
       "      <td>16.200000</td>\n",
       "      <td>572.600000</td>\n",
       "      <td>9.000000e+04</td>\n",
       "      <td>23.950000</td>\n",
       "      <td>0.000000</td>\n",
       "      <td>...</td>\n",
       "      <td>87.600000</td>\n",
       "      <td>2.000000</td>\n",
       "      <td>4.000000</td>\n",
       "      <td>7771.500000</td>\n",
       "      <td>75.200000</td>\n",
       "      <td>3.980000e+04</td>\n",
       "      <td>1.000000</td>\n",
       "      <td>2.000000</td>\n",
       "      <td>3.000000</td>\n",
       "      <td>36.0</td>\n",
       "    </tr>\n",
       "    <tr>\n",
       "      <th>max</th>\n",
       "      <td>6.861706e+07</td>\n",
       "      <td>7.354484e+07</td>\n",
       "      <td>35000.000000</td>\n",
       "      <td>35000.000000</td>\n",
       "      <td>35000.000000</td>\n",
       "      <td>28.990000</td>\n",
       "      <td>1445.460000</td>\n",
       "      <td>9.500000e+06</td>\n",
       "      <td>9999.000000</td>\n",
       "      <td>39.000000</td>\n",
       "      <td>...</td>\n",
       "      <td>223.300000</td>\n",
       "      <td>22.000000</td>\n",
       "      <td>43.000000</td>\n",
       "      <td>127305.000000</td>\n",
       "      <td>151.400000</td>\n",
       "      <td>9.999999e+06</td>\n",
       "      <td>17.000000</td>\n",
       "      <td>35.000000</td>\n",
       "      <td>32.000000</td>\n",
       "      <td>36.0</td>\n",
       "    </tr>\n",
       "  </tbody>\n",
       "</table>\n",
       "<p>8 rows × 52 columns</p>\n",
       "</div>"
      ],
      "text/plain": [
       "                 id     member_id      loan_amnt    funded_amnt  \\\n",
       "count  8.873790e+05  8.873790e+05  887379.000000  887379.000000   \n",
       "mean   3.246513e+07  3.500182e+07   14755.264605   14741.877625   \n",
       "std    2.282734e+07  2.411335e+07    8435.455601    8429.897657   \n",
       "min    5.473400e+04  7.047300e+04     500.000000     500.000000   \n",
       "25%    9.206643e+06  1.087713e+07    8000.000000    8000.000000   \n",
       "50%    3.443327e+07  3.709528e+07   13000.000000   13000.000000   \n",
       "75%    5.490814e+07  5.847135e+07   20000.000000   20000.000000   \n",
       "max    6.861706e+07  7.354484e+07   35000.000000   35000.000000   \n",
       "\n",
       "       funded_amnt_inv       int_rate    installment    annual_inc  \\\n",
       "count    887379.000000  887379.000000  887379.000000  8.873750e+05   \n",
       "mean      14702.464383      13.246740     436.717127  7.502759e+04   \n",
       "std        8442.106732       4.381867     244.186593  6.469830e+04   \n",
       "min           0.000000       5.320000      15.670000  0.000000e+00   \n",
       "25%        8000.000000       9.990000     260.705000  4.500000e+04   \n",
       "50%       13000.000000      12.990000     382.550000  6.500000e+04   \n",
       "75%       20000.000000      16.200000     572.600000  9.000000e+04   \n",
       "max       35000.000000      28.990000    1445.460000  9.500000e+06   \n",
       "\n",
       "                 dti    delinq_2yrs    ...          il_util   open_rv_12m  \\\n",
       "count  887379.000000  887350.000000    ...     18617.000000  21372.000000   \n",
       "mean       18.157039       0.314442    ...        71.535317      1.389060   \n",
       "std        17.190626       0.862244    ...        23.022862      1.520129   \n",
       "min         0.000000       0.000000    ...         0.000000      0.000000   \n",
       "25%        11.910000       0.000000    ...        58.600000      0.000000   \n",
       "50%        17.650000       0.000000    ...        74.900000      1.000000   \n",
       "75%        23.950000       0.000000    ...        87.600000      2.000000   \n",
       "max      9999.000000      39.000000    ...       223.300000     22.000000   \n",
       "\n",
       "        open_rv_24m     max_bal_bc      all_util  total_rev_hi_lim  \\\n",
       "count  21372.000000   21372.000000  21372.000000      8.171030e+05   \n",
       "mean       2.975482    5887.979740     60.831939      3.206862e+04   \n",
       "std        2.631886    5284.701239     20.013254      3.749826e+04   \n",
       "min        0.000000       0.000000      0.000000      0.000000e+00   \n",
       "25%        1.000000    2411.000000     47.700000      1.390000e+04   \n",
       "50%        2.000000    4483.000000     61.900000      2.370000e+04   \n",
       "75%        4.000000    7771.500000     75.200000      3.980000e+04   \n",
       "max       43.000000  127305.000000    151.400000      9.999999e+06   \n",
       "\n",
       "             inq_fi   total_cu_tl  inq_last_12m  term_num  \n",
       "count  21372.000000  21372.000000  21372.000000  887379.0  \n",
       "mean       0.943945      1.537058      1.977307      36.0  \n",
       "std        1.446872      2.723339      2.874067       0.0  \n",
       "min        0.000000      0.000000     -4.000000      36.0  \n",
       "25%        0.000000      0.000000      0.000000      36.0  \n",
       "50%        0.000000      0.000000      2.000000      36.0  \n",
       "75%        1.000000      2.000000      3.000000      36.0  \n",
       "max       17.000000     35.000000     32.000000      36.0  \n",
       "\n",
       "[8 rows x 52 columns]"
      ]
     },
     "execution_count": 20,
     "metadata": {},
     "output_type": "execute_result"
    }
   ],
   "source": [
    "loans.describe()"
   ]
  },
  {
   "cell_type": "code",
   "execution_count": 13,
   "metadata": {
    "scrolled": true
   },
   "outputs": [
    {
     "data": {
      "text/plain": [
       "id                                  0\n",
       "member_id                           0\n",
       "loan_amnt                           0\n",
       "funded_amnt                         0\n",
       "funded_amnt_inv                     0\n",
       "term                                0\n",
       "int_rate                            0\n",
       "installment                         0\n",
       "grade                               0\n",
       "sub_grade                           0\n",
       "emp_title                       51462\n",
       "emp_length                      44825\n",
       "home_ownership                      0\n",
       "annual_inc                          4\n",
       "verification_status                 0\n",
       "issue_d                             0\n",
       "loan_status                         0\n",
       "pymnt_plan                          0\n",
       "url                                 0\n",
       "desc                           761351\n",
       "purpose                             0\n",
       "title                             152\n",
       "zip_code                            0\n",
       "addr_state                          0\n",
       "dti                                 0\n",
       "delinq_2yrs                        29\n",
       "earliest_cr_line                   29\n",
       "inq_last_6mths                     29\n",
       "mths_since_last_delinq         454312\n",
       "mths_since_last_record         750326\n",
       "                                ...  \n",
       "collection_recovery_fee             0\n",
       "last_pymnt_d                    17659\n",
       "last_pymnt_amnt                     0\n",
       "next_pymnt_d                   252971\n",
       "last_credit_pull_d                 53\n",
       "collections_12_mths_ex_med        145\n",
       "mths_since_last_major_derog    665676\n",
       "policy_code                         0\n",
       "application_type                    0\n",
       "annual_inc_joint               886868\n",
       "dti_joint                      886870\n",
       "verification_status_joint      886868\n",
       "acc_now_delinq                     29\n",
       "tot_coll_amt                    70276\n",
       "tot_cur_bal                     70276\n",
       "open_acc_6m                    866007\n",
       "open_il_6m                     866007\n",
       "open_il_12m                    866007\n",
       "open_il_24m                    866007\n",
       "mths_since_rcnt_il             866569\n",
       "total_bal_il                   866007\n",
       "il_util                        868762\n",
       "open_rv_12m                    866007\n",
       "open_rv_24m                    866007\n",
       "max_bal_bc                     866007\n",
       "all_util                       866007\n",
       "total_rev_hi_lim                70276\n",
       "inq_fi                         866007\n",
       "total_cu_tl                    866007\n",
       "inq_last_12m                   866007\n",
       "Length: 74, dtype: int64"
      ]
     },
     "execution_count": 13,
     "metadata": {},
     "output_type": "execute_result"
    }
   ],
   "source": [
    "loans.isnull().sum()"
   ]
  },
  {
   "cell_type": "code",
   "execution_count": 14,
   "metadata": {},
   "outputs": [
    {
     "data": {
      "text/plain": [
       "0.0     7073\n",
       "1.0     6415\n",
       "2.0     3955\n",
       "3.0     2125\n",
       "4.0      962\n",
       "5.0      420\n",
       "6.0      204\n",
       "7.0      103\n",
       "8.0       50\n",
       "10.0      24\n",
       "9.0       21\n",
       "12.0       7\n",
       "11.0       6\n",
       "15.0       2\n",
       "14.0       2\n",
       "19.0       1\n",
       "22.0       1\n",
       "16.0       1\n",
       "Name: open_rv_12m, dtype: int64"
      ]
     },
     "execution_count": 14,
     "metadata": {},
     "output_type": "execute_result"
    }
   ],
   "source": [
    "loans.loc[:,'open_rv_12m'].value_counts()"
   ]
  },
  {
   "cell_type": "code",
   "execution_count": 28,
   "metadata": {},
   "outputs": [
    {
     "data": {
      "text/plain": [
       "Debt consolidation                         414001\n",
       "Credit card refinancing                    164331\n",
       "Home improvement                            40112\n",
       "Other                                       31892\n",
       "Debt Consolidation                          15760\n",
       "Major purchase                              12051\n",
       "Business                                     6728\n",
       "Medical expenses                             6674\n",
       "Car financing                                5565\n",
       "Consolidation                                5381\n",
       "debt consolidation                           4834\n",
       "Moving and relocation                        3921\n",
       "Vacation                                     3805\n",
       "Debt Consolidation Loan                      3804\n",
       "Home buying                                  2365\n",
       "Credit Card Consolidation                    2359\n",
       "consolidation                                2174\n",
       "Personal Loan                                2133\n",
       "Consolidation Loan                           1778\n",
       "Home Improvement                             1772\n",
       "Credit Card Refinance                        1467\n",
       "Credit Card Payoff                           1386\n",
       "Consolidate                                  1268\n",
       "Personal                                     1185\n",
       "Loan                                         1033\n",
       "Freedom                                       801\n",
       "Credit Card Loan                              783\n",
       "personal                                      774\n",
       "consolidate                                   763\n",
       "personal loan                                 744\n",
       "                                            ...  \n",
       "i need a one loan payment                       1\n",
       "consolidate2                                    1\n",
       "debt consoladation                              1\n",
       "Printer                                         1\n",
       "clearing the deck                               1\n",
       "The Helpful Fund                                1\n",
       "Clear Credit Card debt                          1\n",
       "Darrell Debt Consolidation                      1\n",
       "House remodel consolidation into 1 pmnt         1\n",
       "My End to Bad Spending Habits Plan              1\n",
       "Fixing it all loan                              1\n",
       "Pay debts- credit cards                         1\n",
       "Credit Card clearance loan                      1\n",
       "HIgh Interest Rate CC Consolidation             1\n",
       "Consolidate-One Payment                         1\n",
       "Credit Card bye-bye loan                        1\n",
       "REDUCE 2                                        1\n",
       "Just keep on trying                             1\n",
       "DD Rifle                                        1\n",
       "greathelp                                       1\n",
       "Credit Card Refinance 1                         1\n",
       "In the Black Loan                               1\n",
       "Consolidate and Eliminate                       1\n",
       "liquid                                          1\n",
       "Consolidate debt and expenses                   1\n",
       "Tax Debt                                        1\n",
       "Debt consolidation and Medical Expenses         1\n",
       "too big to fail.                                1\n",
       "Quik Debt Relief                                1\n",
       "Snow blower                                     1\n",
       "Name: title, Length: 63144, dtype: int64"
      ]
     },
     "execution_count": 28,
     "metadata": {},
     "output_type": "execute_result"
    }
   ],
   "source": [
    "loans.loc[:,'title'].value_counts()"
   ]
  },
  {
   "cell_type": "code",
   "execution_count": 36,
   "metadata": {},
   "outputs": [
    {
     "data": {
      "text/plain": [
       "id                            -0.008540\n",
       "member_id                     -0.008682\n",
       "loan_amnt                     -0.038080\n",
       "funded_amnt                   -0.038117\n",
       "funded_amnt_inv               -0.035778\n",
       "int_rate                      -0.030033\n",
       "installment                   -0.041391\n",
       "annual_inc                    -0.050350\n",
       "dti                            0.001447\n",
       "delinq_2yrs                   -0.562654\n",
       "inq_last_6mths                 0.014748\n",
       "mths_since_last_delinq         1.000000\n",
       "mths_since_last_record         0.019038\n",
       "open_acc                      -0.043182\n",
       "pub_rec                        0.096646\n",
       "revol_bal                     -0.026798\n",
       "revol_util                     0.012644\n",
       "total_acc                     -0.044920\n",
       "out_prncp                     -0.036634\n",
       "out_prncp_inv                 -0.036619\n",
       "total_pymnt                   -0.007480\n",
       "total_pymnt_inv               -0.005094\n",
       "total_rec_prncp                0.000654\n",
       "total_rec_int                 -0.028208\n",
       "total_rec_late_fee            -0.021321\n",
       "recoveries                    -0.004525\n",
       "collection_recovery_fee       -0.005180\n",
       "last_pymnt_amnt                0.007290\n",
       "collections_12_mths_ex_med    -0.035834\n",
       "mths_since_last_major_derog    0.699356\n",
       "policy_code                         NaN\n",
       "annual_inc_joint              -0.036383\n",
       "dti_joint                      0.002940\n",
       "acc_now_delinq                -0.139118\n",
       "tot_coll_amt                   0.006466\n",
       "tot_cur_bal                   -0.093911\n",
       "open_acc_6m                    0.062663\n",
       "open_il_6m                    -0.030847\n",
       "open_il_12m                    0.044910\n",
       "open_il_24m                    0.055073\n",
       "mths_since_rcnt_il            -0.026357\n",
       "total_bal_il                  -0.029468\n",
       "il_util                        0.056584\n",
       "open_rv_12m                    0.088804\n",
       "open_rv_24m                    0.122308\n",
       "max_bal_bc                    -0.029204\n",
       "all_util                       0.007656\n",
       "total_rev_hi_lim              -0.028712\n",
       "inq_fi                        -0.009523\n",
       "total_cu_tl                   -0.002213\n",
       "inq_last_12m                   0.035203\n",
       "Name: mths_since_last_delinq, dtype: float64"
      ]
     },
     "execution_count": 36,
     "metadata": {},
     "output_type": "execute_result"
    }
   ],
   "source": [
    "loans.corr().loc[:,'mths_since_last_delinq']"
   ]
  },
  {
   "cell_type": "code",
   "execution_count": 38,
   "metadata": {},
   "outputs": [
    {
     "data": {
      "text/plain": [
       "id                             0.004260\n",
       "member_id                      0.004292\n",
       "loan_amnt                     -0.004275\n",
       "funded_amnt                   -0.004275\n",
       "funded_amnt_inv               -0.004274\n",
       "int_rate                       0.001130\n",
       "installment                   -0.003526\n",
       "annual_inc                     0.001096\n",
       "dti                           -0.002084\n",
       "delinq_2yrs                    0.000207\n",
       "inq_last_6mths                 0.003171\n",
       "mths_since_last_delinq         0.006466\n",
       "mths_since_last_record        -0.059586\n",
       "open_acc                       0.000124\n",
       "pub_rec                        0.006891\n",
       "revol_bal                     -0.006219\n",
       "revol_util                    -0.009513\n",
       "total_acc                      0.006525\n",
       "out_prncp                     -0.000835\n",
       "out_prncp_inv                 -0.000836\n",
       "total_pymnt                   -0.004266\n",
       "total_pymnt_inv               -0.004265\n",
       "total_rec_prncp               -0.003844\n",
       "total_rec_int                 -0.003613\n",
       "total_rec_late_fee            -0.000501\n",
       "recoveries                    -0.000922\n",
       "collection_recovery_fee       -0.000516\n",
       "last_pymnt_amnt               -0.002575\n",
       "collections_12_mths_ex_med     0.009811\n",
       "mths_since_last_major_derog    0.004911\n",
       "policy_code                         NaN\n",
       "annual_inc_joint               0.008069\n",
       "dti_joint                     -0.071590\n",
       "acc_now_delinq                 0.000237\n",
       "tot_coll_amt                   1.000000\n",
       "tot_cur_bal                   -0.000355\n",
       "open_acc_6m                    0.022737\n",
       "open_il_6m                    -0.001023\n",
       "open_il_12m                    0.012635\n",
       "open_il_24m                    0.008805\n",
       "mths_since_rcnt_il             0.002451\n",
       "total_bal_il                   0.004414\n",
       "il_util                        0.019232\n",
       "open_rv_12m                    0.027782\n",
       "open_rv_24m                    0.029836\n",
       "max_bal_bc                    -0.046311\n",
       "all_util                      -0.016255\n",
       "total_rev_hi_lim              -0.005049\n",
       "inq_fi                         0.024884\n",
       "total_cu_tl                   -0.005526\n",
       "inq_last_12m                   0.030396\n",
       "Name: tot_coll_amt, dtype: float64"
      ]
     },
     "execution_count": 38,
     "metadata": {},
     "output_type": "execute_result"
    }
   ],
   "source": [
    "loans.corr().loc[:,'tot_coll_amt']"
   ]
  },
  {
   "cell_type": "code",
   "execution_count": 39,
   "metadata": {},
   "outputs": [
    {
     "data": {
      "text/plain": [
       "id                             0.056046\n",
       "member_id                      0.056087\n",
       "loan_amnt                     -0.037278\n",
       "funded_amnt                   -0.037271\n",
       "funded_amnt_inv               -0.037235\n",
       "int_rate                      -0.011180\n",
       "installment                   -0.039111\n",
       "annual_inc                    -0.037394\n",
       "dti                            0.007736\n",
       "delinq_2yrs                   -0.424556\n",
       "inq_last_6mths                 0.020546\n",
       "mths_since_last_delinq         0.699356\n",
       "mths_since_last_record         0.034511\n",
       "open_acc                       0.009059\n",
       "pub_rec                        0.114771\n",
       "revol_bal                     -0.019765\n",
       "revol_util                    -0.012984\n",
       "total_acc                     -0.047398\n",
       "out_prncp                      0.003872\n",
       "out_prncp_inv                  0.003886\n",
       "total_pymnt                   -0.058472\n",
       "total_pymnt_inv               -0.058445\n",
       "total_rec_prncp               -0.050309\n",
       "total_rec_int                 -0.056786\n",
       "total_rec_late_fee            -0.010711\n",
       "recoveries                    -0.012581\n",
       "collection_recovery_fee       -0.009112\n",
       "last_pymnt_amnt               -0.016947\n",
       "collections_12_mths_ex_med    -0.104482\n",
       "mths_since_last_major_derog    1.000000\n",
       "policy_code                         NaN\n",
       "annual_inc_joint               0.056906\n",
       "dti_joint                      0.004300\n",
       "acc_now_delinq                -0.111359\n",
       "tot_coll_amt                   0.004911\n",
       "tot_cur_bal                   -0.068377\n",
       "open_acc_6m                    0.049247\n",
       "open_il_6m                    -0.025180\n",
       "open_il_12m                    0.056655\n",
       "open_il_24m                    0.074340\n",
       "mths_since_rcnt_il            -0.051588\n",
       "total_bal_il                  -0.017372\n",
       "il_util                        0.011578\n",
       "open_rv_12m                    0.057434\n",
       "open_rv_24m                    0.113814\n",
       "max_bal_bc                    -0.010721\n",
       "all_util                      -0.025383\n",
       "total_rev_hi_lim              -0.018512\n",
       "inq_fi                        -0.020001\n",
       "total_cu_tl                    0.010377\n",
       "inq_last_12m                   0.037817\n",
       "Name: mths_since_last_major_derog, dtype: float64"
      ]
     },
     "execution_count": 39,
     "metadata": {},
     "output_type": "execute_result"
    }
   ],
   "source": [
    "loans.corr().loc[:,'mths_since_last_major_derog']"
   ]
  },
  {
   "cell_type": "code",
   "execution_count": 3,
   "metadata": {},
   "outputs": [
    {
     "data": {
      "text/plain": [
       "Current                                                601779\n",
       "Fully Paid                                             207723\n",
       "Charged Off                                             45248\n",
       "Late (31-120 days)                                      11591\n",
       "Issued                                                   8460\n",
       "In Grace Period                                          6253\n",
       "Late (16-30 days)                                        2357\n",
       "Does not meet the credit policy. Status:Fully Paid       1988\n",
       "Default                                                  1219\n",
       "Does not meet the credit policy. Status:Charged Off       761\n",
       "Name: loan_status, dtype: int64"
      ]
     },
     "execution_count": 3,
     "metadata": {},
     "output_type": "execute_result"
    }
   ],
   "source": [
    "loans.loc[:,'loan_status'].value_counts()"
   ]
  },
  {
   "cell_type": "code",
   "execution_count": 6,
   "metadata": {},
   "outputs": [
    {
     "data": {
      "text/plain": [
       "42.0     2557\n",
       "45.0     2554\n",
       "44.0     2521\n",
       "46.0     2520\n",
       "40.0     2496\n",
       "48.0     2486\n",
       "38.0     2477\n",
       "43.0     2459\n",
       "58.0     2420\n",
       "39.0     2408\n",
       "47.0     2402\n",
       "37.0     2396\n",
       "64.0     2391\n",
       "41.0     2390\n",
       "49.0     2386\n",
       "56.0     2386\n",
       "29.0     2371\n",
       "26.0     2347\n",
       "36.0     2339\n",
       "66.0     2337\n",
       "60.0     2331\n",
       "34.0     2331\n",
       "59.0     2322\n",
       "28.0     2320\n",
       "35.0     2319\n",
       "33.0     2319\n",
       "67.0     2318\n",
       "31.0     2315\n",
       "57.0     2313\n",
       "70.0     2307\n",
       "         ... \n",
       "141.0      17\n",
       "137.0      16\n",
       "146.0      16\n",
       "143.0      15\n",
       "139.0      15\n",
       "136.0      14\n",
       "148.0      13\n",
       "149.0      10\n",
       "142.0       9\n",
       "140.0       8\n",
       "145.0       8\n",
       "144.0       7\n",
       "147.0       7\n",
       "151.0       6\n",
       "152.0       4\n",
       "153.0       4\n",
       "170.0       3\n",
       "150.0       3\n",
       "154.0       2\n",
       "188.0       1\n",
       "156.0       1\n",
       "180.0       1\n",
       "157.0       1\n",
       "159.0       1\n",
       "171.0       1\n",
       "176.0       1\n",
       "169.0       1\n",
       "155.0       1\n",
       "165.0       1\n",
       "162.0       1\n",
       "Name: mths_since_last_major_derog, Length: 167, dtype: int64"
      ]
     },
     "execution_count": 6,
     "metadata": {},
     "output_type": "execute_result"
    }
   ],
   "source": [
    "loans.loc[loans.loc[:,'loan_status'] == 'Current','mths_since_last_major_derog'].value_counts()"
   ]
  },
  {
   "cell_type": "code",
   "execution_count": 7,
   "metadata": {},
   "outputs": [
    {
     "data": {
      "text/plain": [
       "<matplotlib.axes._subplots.AxesSubplot at 0x1a0f1bd438>"
      ]
     },
     "execution_count": 7,
     "metadata": {},
     "output_type": "execute_result"
    },
    {
     "data": {
      "image/png": "[encoded data removed]",
      "text/plain": [
       "<Figure size 432x288 with 1 Axes>"
      ]
     },
     "metadata": {},
     "output_type": "display_data"
    }
   ],
   "source": [
    "loans.loc[loans.loc[:,'loan_status'] == 'Current','mths_since_last_major_derog'].value_counts().plot(kind = 'hist')"
   ]
  },
  {
   "cell_type": "code",
   "execution_count": 8,
   "metadata": {},
   "outputs": [
    {
     "data": {
      "text/plain": [
       "<matplotlib.axes._subplots.AxesSubplot at 0x1a0f4ee400>"
      ]
     },
     "execution_count": 8,
     "metadata": {},
     "output_type": "execute_result"
    },
    {
     "data": {
      "image/png": "[encoded data removed]",
      "text/plain": [
       "<Figure size 432x288 with 1 Axes>"
      ]
     },
     "metadata": {},
     "output_type": "display_data"
    }
   ],
   "source": [
    "loans.loc[loans.loc[:,'loan_status'] == 'Late (31-120 days)','mths_since_last_major_derog'].value_counts().plot(kind = 'hist')"
   ]
  },
  {
   "cell_type": "code",
   "execution_count": 9,
   "metadata": {},
   "outputs": [
    {
     "data": {
      "text/plain": [
       "<matplotlib.axes._subplots.AxesSubplot at 0x1a0f5b99e8>"
      ]
     },
     "execution_count": 9,
     "metadata": {},
     "output_type": "execute_result"
    },
    {
     "data": {
      "image/png": "[encoded data removed]",
      "text/plain": [
       "<Figure size 432x288 with 1 Axes>"
      ]
     },
     "metadata": {},
     "output_type": "display_data"
    }
   ],
   "source": [
    "loans.loc[:,'funded_amnt'].plot(kind = 'box')"
   ]
  },
  {
   "cell_type": "code",
   "execution_count": 10,
   "metadata": {},
   "outputs": [
    {
     "data": {
      "text/plain": [
       "<matplotlib.axes._subplots.AxesSubplot at 0x1a0f998e48>"
      ]
     },
     "execution_count": 10,
     "metadata": {},
     "output_type": "execute_result"
    },
    {
     "data": {
      "image/png": "[encoded data removed]",
      "text/plain": [
       "<Figure size 432x288 with 1 Axes>"
      ]
     },
     "metadata": {},
     "output_type": "display_data"
    }
   ],
   "source": [
    "loans.loc[:,'tot_coll_amt'].plot(kind = 'box')"
   ]
  },
  {
   "cell_type": "code",
   "execution_count": 11,
   "metadata": {},
   "outputs": [
    {
     "data": {
      "text/plain": [
       "<matplotlib.axes._subplots.AxesSubplot at 0x1a102d6f60>"
      ]
     },
     "execution_count": 11,
     "metadata": {},
     "output_type": "execute_result"
    },
    {
     "data": {
      "image/png": "[encoded data removed]",
      "text/plain": [
       "<Figure size 432x288 with 1 Axes>"
      ]
     },
     "metadata": {},
     "output_type": "display_data"
    }
   ],
   "source": [
    "loans.loc[:,'collections_12_mths_ex_med'].plot(kind = 'box')"
   ]
  },
  {
   "cell_type": "code",
   "execution_count": 12,
   "metadata": {},
   "outputs": [
    {
     "data": {
      "text/plain": [
       "<matplotlib.axes._subplots.AxesSubplot at 0x1a103af9b0>"
      ]
     },
     "execution_count": 12,
     "metadata": {},
     "output_type": "execute_result"
    },
    {
     "data": {
      "image/png": "[encoded data removed]",
      "text/plain": [
       "<Figure size 432x288 with 1 Axes>"
      ]
     },
     "metadata": {},
     "output_type": "display_data"
    }
   ],
   "source": [
    "loans.loc[:,'int_rate'].plot(kind = 'box')"
   ]
  },
  {
   "cell_type": "code",
   "execution_count": 15,
   "metadata": {},
   "outputs": [
    {
     "data": {
      "text/plain": [
       "Current                                                601779\n",
       "Fully Paid                                             207723\n",
       "Charged Off                                             45248\n",
       "Late (31-120 days)                                      11591\n",
       "Issued                                                   8460\n",
       "In Grace Period                                          6253\n",
       "Late (16-30 days)                                        2357\n",
       "Does not meet the credit policy. Status:Fully Paid       1988\n",
       "Default                                                  1219\n",
       "Does not meet the credit policy. Status:Charged Off       761\n",
       "Name: loan_status, dtype: int64"
      ]
     },
     "execution_count": 15,
     "metadata": {},
     "output_type": "execute_result"
    }
   ],
   "source": [
    "loans.loc[:,'loan_status'].value_counts()"
   ]
  },
  {
   "cell_type": "code",
   "execution_count": 16,
   "metadata": {},
   "outputs": [],
   "source": [
    "loans.loc[:,'Good_Status'] = loans.loan_status.isin(['Current'\n",
    "                                                               ,'Fully Paid',\n",
    "                                                               'Issued'\n",
    "                                                               ,'Does not meet the credit policy. Status:Fully Paid']\n",
    "                                                             )"
   ]
  },
  {
   "cell_type": "code",
   "execution_count": 17,
   "metadata": {},
   "outputs": [
    {
     "data": {
      "text/plain": [
       "id                             0.190691\n",
       "member_id                      0.190876\n",
       "loan_amnt                     -0.003512\n",
       "funded_amnt                   -0.002808\n",
       "funded_amnt_inv               -0.000007\n",
       "int_rate                      -0.175450\n",
       "installment                   -0.014124\n",
       "annual_inc                     0.034142\n",
       "dti                           -0.009961\n",
       "delinq_2yrs                   -0.002804\n",
       "inq_last_6mths                -0.080892\n",
       "mths_since_last_delinq         0.009779\n",
       "mths_since_last_record        -0.038513\n",
       "open_acc                       0.016059\n",
       "pub_rec                        0.013574\n",
       "revol_bal                      0.020689\n",
       "revol_util                    -0.050134\n",
       "total_acc                      0.017997\n",
       "out_prncp                      0.158544\n",
       "out_prncp_inv                  0.158540\n",
       "total_pymnt                    0.042515\n",
       "total_pymnt_inv                0.043552\n",
       "total_rec_prncp                0.095991\n",
       "total_rec_int                 -0.067069\n",
       "total_rec_late_fee            -0.166320\n",
       "recoveries                    -0.390846\n",
       "collection_recovery_fee       -0.269621\n",
       "last_pymnt_amnt                0.101260\n",
       "collections_12_mths_ex_med     0.006854\n",
       "mths_since_last_major_derog    0.014077\n",
       "policy_code                         NaN\n",
       "annual_inc_joint               0.021476\n",
       "dti_joint                     -0.031650\n",
       "acc_now_delinq                 0.000030\n",
       "tot_coll_amt                   0.001572\n",
       "tot_cur_bal                    0.037991\n",
       "open_acc_6m                    0.000572\n",
       "open_il_6m                    -0.001919\n",
       "open_il_12m                   -0.015611\n",
       "open_il_24m                   -0.011960\n",
       "mths_since_rcnt_il            -0.005135\n",
       "total_bal_il                  -0.001422\n",
       "il_util                       -0.003468\n",
       "open_rv_12m                    0.004931\n",
       "open_rv_24m                    0.001722\n",
       "max_bal_bc                     0.001203\n",
       "all_util                      -0.011144\n",
       "total_rev_hi_lim               0.039699\n",
       "inq_fi                        -0.015482\n",
       "total_cu_tl                   -0.017220\n",
       "inq_last_12m                  -0.020767\n",
       "Good_Status                    1.000000\n",
       "Name: Good_Status, dtype: float64"
      ]
     },
     "execution_count": 17,
     "metadata": {},
     "output_type": "execute_result"
    }
   ],
   "source": [
    "loans.corr().loc[:,'Good_Status']"
   ]
  },
  {
   "cell_type": "code",
   "execution_count": 18,
   "metadata": {},
   "outputs": [],
   "source": [
    "loans.loc[:,'Bad_Status'] = loans.loan_status.isin(['Late (31-120 days)'\n",
    "                                                               ,'Late (16-30 days)',\n",
    "                                                               'Charged Off'\n",
    "                                                               ,'Default'\n",
    "                                                               ,'Does not meet the credit policy. Status:Charged Off']\n",
    "                                                             )"
   ]
  },
  {
   "cell_type": "code",
   "execution_count": 19,
   "metadata": {
    "scrolled": true
   },
   "outputs": [
    {
     "data": {
      "text/plain": [
       "id                            -0.201356\n",
       "member_id                     -0.201594\n",
       "loan_amnt                     -0.000450\n",
       "funded_amnt                   -0.001233\n",
       "funded_amnt_inv               -0.004262\n",
       "int_rate                       0.170129\n",
       "installment                    0.009762\n",
       "annual_inc                    -0.036184\n",
       "dti                            0.008322\n",
       "delinq_2yrs                   -0.002174\n",
       "inq_last_6mths                 0.082200\n",
       "mths_since_last_delinq        -0.006165\n",
       "mths_since_last_record         0.043935\n",
       "open_acc                      -0.017776\n",
       "pub_rec                       -0.015158\n",
       "revol_bal                     -0.020264\n",
       "revol_util                     0.046479\n",
       "total_acc                     -0.019214\n",
       "out_prncp                     -0.176649\n",
       "out_prncp_inv                 -0.176646\n",
       "total_pymnt                   -0.041756\n",
       "total_pymnt_inv               -0.042951\n",
       "total_rec_prncp               -0.094256\n",
       "total_rec_int                  0.060332\n",
       "total_rec_late_fee             0.158649\n",
       "recoveries                     0.411897\n",
       "collection_recovery_fee        0.284143\n",
       "last_pymnt_amnt               -0.096461\n",
       "collections_12_mths_ex_med    -0.007635\n",
       "mths_since_last_major_derog   -0.014210\n",
       "policy_code                         NaN\n",
       "annual_inc_joint              -0.004261\n",
       "dti_joint                     -0.040340\n",
       "acc_now_delinq                -0.000019\n",
       "tot_coll_amt                  -0.001642\n",
       "tot_cur_bal                   -0.038387\n",
       "open_acc_6m                         NaN\n",
       "open_il_6m                          NaN\n",
       "open_il_12m                         NaN\n",
       "open_il_24m                         NaN\n",
       "mths_since_rcnt_il                  NaN\n",
       "total_bal_il                        NaN\n",
       "il_util                             NaN\n",
       "open_rv_12m                         NaN\n",
       "open_rv_24m                         NaN\n",
       "max_bal_bc                          NaN\n",
       "all_util                            NaN\n",
       "total_rev_hi_lim              -0.037400\n",
       "inq_fi                              NaN\n",
       "total_cu_tl                         NaN\n",
       "inq_last_12m                        NaN\n",
       "Good_Status                   -0.948894\n",
       "Bad_Status                     1.000000\n",
       "Name: Bad_Status, dtype: float64"
      ]
     },
     "execution_count": 19,
     "metadata": {},
     "output_type": "execute_result"
    }
   ],
   "source": [
    "loans.corr().loc[:,'Bad_Status']"
   ]
  },
  {
   "cell_type": "code",
   "execution_count": 25,
   "metadata": {},
   "outputs": [
    {
     "ename": "TypeError",
     "evalue": "numpy boolean subtract, the `-` operator, is deprecated, use the bitwise_xor, the `^` operator, or the logical_xor function instead.",
     "output_type": "error",
     "traceback": [
      "\u001b[0;31m---------------------------------------------------------------------------\u001b[0m",
      "\u001b[0;31mTypeError\u001b[0m                                 Traceback (most recent call last)",
      "\u001b[0;32m<ipython-input-25-5dceba710572>\u001b[0m in \u001b[0;36m<module>\u001b[0;34m()\u001b[0m\n\u001b[0;32m----> 1\u001b[0;31m \u001b[0maxes\u001b[0m \u001b[0;34m=\u001b[0m \u001b[0mpd\u001b[0m\u001b[0;34m.\u001b[0m\u001b[0mplotting\u001b[0m\u001b[0;34m.\u001b[0m\u001b[0mscatter_matrix\u001b[0m\u001b[0;34m(\u001b[0m\u001b[0mloans\u001b[0m\u001b[0;34m.\u001b[0m\u001b[0mloc\u001b[0m\u001b[0;34m[\u001b[0m\u001b[0;34m:\u001b[0m\u001b[0;34m,\u001b[0m \u001b[0;34m[\u001b[0m\u001b[0;34m'Bad_Status'\u001b[0m\u001b[0;34m,\u001b[0m \u001b[0;34m'int_rate'\u001b[0m\u001b[0;34m]\u001b[0m\u001b[0;34m]\u001b[0m\u001b[0;34m)\u001b[0m\u001b[0;34m\u001b[0m\u001b[0m\n\u001b[0m",
      "\u001b[0;32m/anaconda3/lib/python3.6/site-packages/pandas/plotting/_misc.py\u001b[0m in \u001b[0;36mscatter_matrix\u001b[0;34m(frame, alpha, figsize, ax, grid, diagonal, marker, density_kwds, hist_kwds, range_padding, **kwds)\u001b[0m\n\u001b[1;32m     77\u001b[0m         \u001b[0mvalues\u001b[0m \u001b[0;34m=\u001b[0m \u001b[0mdf\u001b[0m\u001b[0;34m[\u001b[0m\u001b[0ma\u001b[0m\u001b[0;34m]\u001b[0m\u001b[0;34m.\u001b[0m\u001b[0mvalues\u001b[0m\u001b[0;34m[\u001b[0m\u001b[0mmask\u001b[0m\u001b[0;34m[\u001b[0m\u001b[0ma\u001b[0m\u001b[0;34m]\u001b[0m\u001b[0;34m.\u001b[0m\u001b[0mvalues\u001b[0m\u001b[0;34m]\u001b[0m\u001b[0;34m\u001b[0m\u001b[0m\n\u001b[1;32m     78\u001b[0m         \u001b[0mrmin_\u001b[0m\u001b[0;34m,\u001b[0m \u001b[0mrmax_\u001b[0m \u001b[0;34m=\u001b[0m \u001b[0mnp\u001b[0m\u001b[0;34m.\u001b[0m\u001b[0mmin\u001b[0m\u001b[0;34m(\u001b[0m\u001b[0mvalues\u001b[0m\u001b[0;34m)\u001b[0m\u001b[0;34m,\u001b[0m \u001b[0mnp\u001b[0m\u001b[0;34m.\u001b[0m\u001b[0mmax\u001b[0m\u001b[0;34m(\u001b[0m\u001b[0mvalues\u001b[0m\u001b[0;34m)\u001b[0m\u001b[0;34m\u001b[0m\u001b[0m\n\u001b[0;32m---> 79\u001b[0;31m         \u001b[0mrdelta_ext\u001b[0m \u001b[0;34m=\u001b[0m \u001b[0;34m(\u001b[0m\u001b[0mrmax_\u001b[0m \u001b[0;34m-\u001b[0m \u001b[0mrmin_\u001b[0m\u001b[0;34m)\u001b[0m \u001b[0;34m*\u001b[0m \u001b[0mrange_padding\u001b[0m \u001b[0;34m/\u001b[0m \u001b[0;36m2.\u001b[0m\u001b[0;34m\u001b[0m\u001b[0m\n\u001b[0m\u001b[1;32m     80\u001b[0m         \u001b[0mboundaries_list\u001b[0m\u001b[0;34m.\u001b[0m\u001b[0mappend\u001b[0m\u001b[0;34m(\u001b[0m\u001b[0;34m(\u001b[0m\u001b[0mrmin_\u001b[0m \u001b[0;34m-\u001b[0m \u001b[0mrdelta_ext\u001b[0m\u001b[0;34m,\u001b[0m \u001b[0mrmax_\u001b[0m \u001b[0;34m+\u001b[0m \u001b[0mrdelta_ext\u001b[0m\u001b[0;34m)\u001b[0m\u001b[0;34m)\u001b[0m\u001b[0;34m\u001b[0m\u001b[0m\n\u001b[1;32m     81\u001b[0m \u001b[0;34m\u001b[0m\u001b[0m\n",
      "\u001b[0;31mTypeError\u001b[0m: numpy boolean subtract, the `-` operator, is deprecated, use the bitwise_xor, the `^` operator, or the logical_xor function instead."
     ]
    },
    {
     "data": {
      "image/png": "[encoded data removed]",
      "text/plain": [
       "<Figure size 432x288 with 4 Axes>"
      ]
     },
     "metadata": {},
     "output_type": "display_data"
    }
   ],
   "source": [
    "axes = pd.plotting.scatter_matrix(loans.loc[:, ['Bad_Status', 'int_rate']])"
   ]
  },
  {
   "cell_type": "code",
   "execution_count": null,
   "metadata": {},
   "outputs": [],
   "source": []
  },
  {
   "cell_type": "markdown",
   "metadata": {},
   "source": [
    "## shortcomings, assumptions, and next steps"
   ]
  },
  {
   "cell_type": "markdown",
   "metadata": {},
   "source": [
    "Shortcomings: \n",
    "    1. This data set is huge making exploratory data analysis hard\n",
    "    2. with this amount of columns and missing data it can be hard to tell what's important\n",
    "    3. loan data can be multicolinear (riskier loans get high interest rates, which can lead to higher delinquency)\n",
    "    4. There are a lot of things related to the current loan that we wouldn't have when predicting these loans at origination"
   ]
  },
  {
   "cell_type": "markdown",
   "metadata": {},
   "source": [
    "Assumptions:\n",
    "    1. I will have to make assumptions and drop some of the columns (rather than drop columns that have a ton of data missing, I'm planning on dropping data that has just a few records missing)\n",
    "    2. There could be many target variables for this data set(eg. I made 2 such variables with Good_Status, and Bad_Status)\n"
   ]
  },
  {
   "cell_type": "markdown",
   "metadata": {},
   "source": [
    "Next Steps:\n",
    "    1. Decide what to do with the missing data\n",
    "    2. Decide on target variable population"
   ]
  },
  {
   "cell_type": "code",
   "execution_count": null,
   "metadata": {},
   "outputs": [],
   "source": []
  }
 ],
 "metadata": {
  "kernelspec": {
   "display_name": "Python 3",
   "language": "python",
   "name": "python3"
  },
  "language_info": {
   "codemirror_mode": {
    "name": "ipython",
    "version": 3
   },
   "file_extension": ".py",
   "mimetype": "text/x-python",
   "name": "python",
   "nbconvert_exporter": "python",
   "pygments_lexer": "ipython3",
   "version": "3.6.5"
  }
 },
 "nbformat": 4,
 "nbformat_minor": 2
}
